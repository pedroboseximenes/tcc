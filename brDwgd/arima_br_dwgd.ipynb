{
 "cells": [
  {
   "cell_type": "code",
   "execution_count": null,
   "id": "d12d8c8a",
   "metadata": {},
   "outputs": [],
   "source": [
    "from statsmodels.tsa.arima.model import ARIMA\n",
    "from statsmodels.graphics.tsaplots import plot_acf, plot_pacf\n",
    "from sklearn.metrics import mean_squared_error, mean_absolute_error\n",
    "import matplotlib.pyplot as plt\n",
    "import pandas as pd\n",
    "from math import sqrt\n",
    "import access_br_dwgd as access_br_dwgd\n",
    "from statsmodels.tsa.stattools import adfuller\n"
   ]
  },
  {
   "cell_type": "code",
   "execution_count": null,
   "id": "2d9b74ea",
   "metadata": {},
   "outputs": [],
   "source": [
    "timeseries = access_br_dwgd.recuperar_dados_br_dwgd_com_area(False)\n",
    "#pegando uma estação\n",
    "timeseries = timeseries.iloc[:, 50].fillna(0)\n",
    "train_size = int(len(timeseries) * 0.70)\n",
    "test_size = len(timeseries) - train_size\n",
    "train, test = timeseries[:train_size], timeseries[train_size:]\n",
    "plt.plot(timeseries)\n",
    "plt.title('Daily Rain in station')\n",
    "plt.xlabel('Date')\n",
    "plt.ylabel('mm')\n",
    "plt.show()\n"
   ]
  },
  {
   "cell_type": "code",
   "execution_count": null,
   "id": "10efc373",
   "metadata": {},
   "outputs": [],
   "source": [
    "def ad_test(dataset):\n",
    "     dftest = adfuller(dataset, autolag = 'AIC')\n",
    "     print(\"1. ADF : \",dftest[0])\n",
    "     print(\"2. P-Value : \", dftest[1])\n",
    "     print(\"3. Num Of Lags : \", dftest[2])\n",
    "     print(\"4. Num Of Observations Used For ADF Regression:\",      dftest[3])\n",
    "     print(\"5. Critical Values :\")\n",
    "     for key, val in dftest[4].items():\n",
    "         print(\"\\t\",key, \": \", val)\n",
    "ad_test(timeseries)"
   ]
  },
  {
   "cell_type": "code",
   "execution_count": null,
   "id": "357f5007",
   "metadata": {},
   "outputs": [],
   "source": [
    "plot_acf(timeseries, lags=2)\n",
    "plot_pacf(timeseries, lags=2)\n",
    "plt.show()"
   ]
  },
  {
   "cell_type": "code",
   "execution_count": null,
   "id": "1d0619ae",
   "metadata": {},
   "outputs": [],
   "source": [
    "#ARIMA AUTO\n",
    "model = ARIMA(train, order=(2, 1, 1))\n",
    "model = model.fit()\n",
    "test_forecast = model.forecast(steps=len(test))\n",
    "test_forecast_series = pd.Series(test_forecast.values, index=test.index)\n",
    "\n",
    "\n",
    "# RMSE\n",
    "rmse = sqrt(mean_squared_error(test, test_forecast))\n",
    "print('RMSE:', rmse)\n",
    "\n",
    "# MSE\n",
    "mse = mean_squared_error(test, test_forecast)\n",
    "print('MSE:', mse)\n",
    "\n",
    "# MAE\n",
    "mae = mean_absolute_error(test, test_forecast)\n",
    "print('MAE:', mae)\n"
   ]
  },
  {
   "cell_type": "code",
   "execution_count": null,
   "id": "7974eca3",
   "metadata": {},
   "outputs": [],
   "source": [
    "\n",
    "# Plot\n",
    "plt.figure(figsize=(14,7))\n",
    "plt.plot(train, label='Training Data')\n",
    "plt.plot(test, label='Actual Data', color='orange')\n",
    "plt.plot(test_forecast_series, label='Forecasted Data', color='green')\n",
    "\n",
    "plt.title('ARIMA Model Evaluation')\n",
    "plt.xlabel('Date')\n",
    "plt.ylabel('mm')\n",
    "plt.legend()\n",
    "plt.show()\n"
   ]
  }
 ],
 "metadata": {
  "kernelspec": {
   "display_name": ".venv",
   "language": "python",
   "name": "python3"
  },
  "language_info": {
   "codemirror_mode": {
    "name": "ipython",
    "version": 3
   },
   "file_extension": ".py",
   "mimetype": "text/x-python",
   "name": "python",
   "nbconvert_exporter": "python",
   "pygments_lexer": "ipython3",
   "version": "3.10.12"
  }
 },
 "nbformat": 4,
 "nbformat_minor": 5
}
