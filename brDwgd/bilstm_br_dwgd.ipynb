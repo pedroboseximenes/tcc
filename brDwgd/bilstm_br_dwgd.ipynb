{
 "cells": [
  {
   "cell_type": "code",
   "execution_count": 2,
   "id": "d12d8c8a",
   "metadata": {},
   "outputs": [],
   "source": [
    "\n",
    "import torch.utils.data as data\n",
    "import numpy as np\n",
    "from sklearn.preprocessing import MinMaxScaler\n",
    "from tensorflow.keras.models import Sequential\n",
    "from tensorflow.keras.layers import Bidirectional, LSTM, Dense\n",
    "import matplotlib.pyplot as plt\n",
    "from sklearn.metrics import mean_squared_error, mean_absolute_error\n",
    "import access_br_dwgd as access_br_dwgd\n",
    "import sys, os\n",
    "sys.path.append(os.path.abspath(\"..\"))\n",
    "\n",
    "from utils.lstmModel import LstmModel\n",
    "import utils.lstm as lstm\n"
   ]
  },
  {
   "cell_type": "code",
   "execution_count": null,
   "id": "2d9b74ea",
   "metadata": {},
   "outputs": [],
   "source": [
    "timeseries = access_br_dwgd.recuperar_dados_br_dwgd_com_area(True)\n",
    "datas = timeseries.index \n",
    "train_size = int(len(timeseries) * 0.6)\n",
    "test_size = len(timeseries) - train_size\n",
    "train, test = timeseries.values[:train_size], timeseries.values[train_size:]\n",
    "train_date, test_date = datas[:train_size] , datas[train_size:]\n",
    "plt.plot(timeseries)\n",
    "plt.title('Daily Rain in station')\n",
    "plt.xlabel('Date')\n",
    "plt.ylabel('mm')\n",
    "plt.show()\n"
   ]
  },
  {
   "cell_type": "code",
   "execution_count": null,
   "id": "e6e6efd2",
   "metadata": {},
   "outputs": [],
   "source": [
    "\n",
    "\n",
    "lookback = 30\n",
    "X_train, y_train = lstm.create_dataset(train, lookback=lookback)\n",
    "X_test, y_test = lstm.create_dataset(test, lookback=lookback)\n",
    "\n",
    "print(X_train.shape, y_train.shape)\n",
    "print(X_test.shape, y_test.shape)"
   ]
  },
  {
   "cell_type": "code",
   "execution_count": null,
   "id": "90e5d629",
   "metadata": {},
   "outputs": [],
   "source": [
    "\n",
    "# Building the model\n",
    "model = Sequential()\n",
    "# Adding a Bidirectional LSTM layer\n",
    "model.add(Bidirectional(LSTM(64,return_sequences=True, dropout=0.5, input_shape=(X_train.shape[1], X_train.shape[-1]))))\n",
    "model.add(Bidirectional(LSTM(20, dropout=0.5)))\n",
    "model.add(Dense(1))\n",
    "model.compile(loss='mse', optimizer='rmsprop')"
   ]
  }
 ],
 "metadata": {
  "kernelspec": {
   "display_name": ".venv",
   "language": "python",
   "name": "python3"
  },
  "language_info": {
   "codemirror_mode": {
    "name": "ipython",
    "version": 3
   },
   "file_extension": ".py",
   "mimetype": "text/x-python",
   "name": "python",
   "nbconvert_exporter": "python",
   "pygments_lexer": "ipython3",
   "version": "3.10.12"
  }
 },
 "nbformat": 4,
 "nbformat_minor": 5
}
